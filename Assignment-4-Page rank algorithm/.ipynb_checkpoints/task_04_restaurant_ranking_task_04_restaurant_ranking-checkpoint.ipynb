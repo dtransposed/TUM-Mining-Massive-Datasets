{
 "cells": [
  {
   "cell_type": "markdown",
   "metadata": {},
   "source": [
    "# Project task 04:  Restaurant ranking"
   ]
  },
  {
   "cell_type": "code",
   "execution_count": 1,
   "metadata": {},
   "outputs": [],
   "source": [
    "import numpy as np\n",
    "import scipy.sparse as sp\n",
    "from sklearn.preprocessing import normalize"
   ]
  },
  {
   "cell_type": "markdown",
   "metadata": {},
   "source": [
    "The goal of this task is to rank restaurants using the **PageRank** algorithm. You are given a directed weighted graph where each node represents one restaurant. The edges in this graph are based on users reviews.\n",
    "\n",
    "Additionally for each restaurant you are given the categories it belongs to, i.e. 'Mexican', 'Italian', etc. Note that each restaurant can belong to multiple categories.\n",
    "\n",
    "Considering these categories as topics you will perform **Topic-Specific PageRank**, enabling you to e.g. find the top 10 'Mexican' restaurants."
   ]
  },
  {
   "cell_type": "markdown",
   "metadata": {},
   "source": [
    "## 1. Load data\n",
    "\n",
    "* The graph is stored as a sparse adjacency matrix $A$\n",
    "* The categories are stored in a binary sparse matrix $C$, with $C_{ij}=1$ indicating that restaurant $i$ belongs to category $j$\n",
    "* We also provide you with a dictionary mapping each category to its corresponding column index in $C$\n",
    "* The name of each restaurant is provided as a list, with the i-th element in the list corresponding to the i-th node in the graph"
   ]
  },
  {
   "cell_type": "code",
   "execution_count": 2,
   "metadata": {},
   "outputs": [
    {
     "ename": "FileNotFoundError",
     "evalue": "[Errno 2] No such file or directory: 'restaurant_graph.npz'",
     "output_type": "error",
     "traceback": [
      "\u001b[0;31m---------------------------------------------------------------------------\u001b[0m",
      "\u001b[0;31mFileNotFoundError\u001b[0m                         Traceback (most recent call last)",
      "\u001b[0;32m<ipython-input-2-ed3fbdc9f7b3>\u001b[0m in \u001b[0;36m<module>\u001b[0;34m\u001b[0m\n\u001b[0;32m----> 1\u001b[0;31m \u001b[0mA\u001b[0m \u001b[0;34m=\u001b[0m \u001b[0msp\u001b[0m\u001b[0;34m.\u001b[0m\u001b[0mload_npz\u001b[0m\u001b[0;34m(\u001b[0m\u001b[0;34m'restaurant_graph.npz'\u001b[0m\u001b[0;34m)\u001b[0m\u001b[0;34m\u001b[0m\u001b[0;34m\u001b[0m\u001b[0m\n\u001b[0m\u001b[1;32m      2\u001b[0m \u001b[0mA\u001b[0m\u001b[0;34m\u001b[0m\u001b[0;34m\u001b[0m\u001b[0m\n",
      "\u001b[0;32m~/.local/lib/python3.6/site-packages/scipy/sparse/_matrix_io.py\u001b[0m in \u001b[0;36mload_npz\u001b[0;34m(file)\u001b[0m\n\u001b[1;32m    129\u001b[0m     \"\"\"\n\u001b[1;32m    130\u001b[0m \u001b[0;34m\u001b[0m\u001b[0m\n\u001b[0;32m--> 131\u001b[0;31m     \u001b[0;32mwith\u001b[0m \u001b[0mnp\u001b[0m\u001b[0;34m.\u001b[0m\u001b[0mload\u001b[0m\u001b[0;34m(\u001b[0m\u001b[0mfile\u001b[0m\u001b[0;34m,\u001b[0m \u001b[0;34m**\u001b[0m\u001b[0mPICKLE_KWARGS\u001b[0m\u001b[0;34m)\u001b[0m \u001b[0;32mas\u001b[0m \u001b[0mloaded\u001b[0m\u001b[0;34m:\u001b[0m\u001b[0;34m\u001b[0m\u001b[0;34m\u001b[0m\u001b[0m\n\u001b[0m\u001b[1;32m    132\u001b[0m         \u001b[0;32mtry\u001b[0m\u001b[0;34m:\u001b[0m\u001b[0;34m\u001b[0m\u001b[0;34m\u001b[0m\u001b[0m\n\u001b[1;32m    133\u001b[0m             \u001b[0mmatrix_format\u001b[0m \u001b[0;34m=\u001b[0m \u001b[0mloaded\u001b[0m\u001b[0;34m[\u001b[0m\u001b[0;34m'format'\u001b[0m\u001b[0;34m]\u001b[0m\u001b[0;34m\u001b[0m\u001b[0;34m\u001b[0m\u001b[0m\n",
      "\u001b[0;32m~/.local/lib/python3.6/site-packages/numpy/lib/npyio.py\u001b[0m in \u001b[0;36mload\u001b[0;34m(file, mmap_mode, allow_pickle, fix_imports, encoding)\u001b[0m\n\u001b[1;32m    370\u001b[0m     \u001b[0mown_fid\u001b[0m \u001b[0;34m=\u001b[0m \u001b[0;32mFalse\u001b[0m\u001b[0;34m\u001b[0m\u001b[0;34m\u001b[0m\u001b[0m\n\u001b[1;32m    371\u001b[0m     \u001b[0;32mif\u001b[0m \u001b[0misinstance\u001b[0m\u001b[0;34m(\u001b[0m\u001b[0mfile\u001b[0m\u001b[0;34m,\u001b[0m \u001b[0mbasestring\u001b[0m\u001b[0;34m)\u001b[0m\u001b[0;34m:\u001b[0m\u001b[0;34m\u001b[0m\u001b[0;34m\u001b[0m\u001b[0m\n\u001b[0;32m--> 372\u001b[0;31m         \u001b[0mfid\u001b[0m \u001b[0;34m=\u001b[0m \u001b[0mopen\u001b[0m\u001b[0;34m(\u001b[0m\u001b[0mfile\u001b[0m\u001b[0;34m,\u001b[0m \u001b[0;34m\"rb\"\u001b[0m\u001b[0;34m)\u001b[0m\u001b[0;34m\u001b[0m\u001b[0;34m\u001b[0m\u001b[0m\n\u001b[0m\u001b[1;32m    373\u001b[0m         \u001b[0mown_fid\u001b[0m \u001b[0;34m=\u001b[0m \u001b[0;32mTrue\u001b[0m\u001b[0;34m\u001b[0m\u001b[0;34m\u001b[0m\u001b[0m\n\u001b[1;32m    374\u001b[0m     \u001b[0;32melif\u001b[0m \u001b[0mis_pathlib_path\u001b[0m\u001b[0;34m(\u001b[0m\u001b[0mfile\u001b[0m\u001b[0;34m)\u001b[0m\u001b[0;34m:\u001b[0m\u001b[0;34m\u001b[0m\u001b[0;34m\u001b[0m\u001b[0m\n",
      "\u001b[0;31mFileNotFoundError\u001b[0m: [Errno 2] No such file or directory: 'restaurant_graph.npz'"
     ]
    }
   ],
   "source": [
    "A = sp.load_npz('restaurant_graph.npz')\n",
    "A"
   ]
  },
  {
   "cell_type": "code",
   "execution_count": 3,
   "metadata": {},
   "outputs": [
    {
     "data": {
      "text/plain": [
       "<7073x138 sparse matrix of type '<class 'numpy.float64'>'\n",
       "\twith 19047 stored elements in Compressed Sparse Row format>"
      ]
     },
     "execution_count": 3,
     "metadata": {},
     "output_type": "execute_result"
    }
   ],
   "source": [
    "C = sp.load_npz('restaurant_categories.npz')\n",
    "C"
   ]
  },
  {
   "cell_type": "code",
   "execution_count": 4,
   "metadata": {},
   "outputs": [
    {
     "data": {
      "text/plain": [
       "(3, 14)"
      ]
     },
     "execution_count": 4,
     "metadata": {},
     "output_type": "execute_result"
    }
   ],
   "source": [
    "categories = np.load('categories.npy').tolist()\n",
    "categories['Mexican'], categories['Chinese']"
   ]
  },
  {
   "cell_type": "code",
   "execution_count": 5,
   "metadata": {},
   "outputs": [
    {
     "data": {
      "text/plain": [
       "array(['Alize Catering', 'Chula Taberna Mexicana', 'Sunnyside Grill'],\n",
       "      dtype='<U50')"
      ]
     },
     "execution_count": 5,
     "metadata": {},
     "output_type": "execute_result"
    }
   ],
   "source": [
    "names = np.load('restaurant_names.npy')\n",
    "names[:3]"
   ]
  },
  {
   "cell_type": "code",
   "execution_count": 6,
   "metadata": {},
   "outputs": [
    {
     "data": {
      "text/plain": [
       "3"
      ]
     },
     "execution_count": 6,
     "metadata": {},
     "output_type": "execute_result"
    }
   ],
   "source": [
    "categories['Mexican']"
   ]
  },
  {
   "cell_type": "code",
   "execution_count": 7,
   "metadata": {},
   "outputs": [],
   "source": [
    "assert A.shape[0] == len(names) == C.shape[0]\n",
    "assert C.shape[1] == len(categories)"
   ]
  },
  {
   "cell_type": "markdown",
   "metadata": {},
   "source": [
    " ## 2. Determine the teleport set\n",
    " \n",
    "\n",
    "Given a list of topics of intereset, i.e. `['Mexican', 'Italian', ...]`, implement a helper function to return all the restaurants that belong to **at least one** of these topics. These restaurants will become part of the teleport set in Topic-Specific PageRank."
   ]
  },
  {
   "cell_type": "code",
   "execution_count": 8,
   "metadata": {},
   "outputs": [],
   "source": [
    "def teleport_set(C, topics, categories):\n",
    "    \"\"\"\n",
    "    Finds the teleport set consisting of restaurants that belong to at least one of the specified topics.\n",
    "    \n",
    "    Parameters\n",
    "    ----------\n",
    "    C             : sp.spmatrix, shape [num_restaurants, num_categories]\n",
    "                    Binary matrix encoding which restaurants belongs to which categories.\n",
    "    topics        : List[string]\n",
    "                    List of topics of interest.\n",
    "    categories    : dict(string, int)\n",
    "                    Dictionary mapping each category to its corresponding column index in C.\n",
    "        \n",
    "    Returns\n",
    "    -------\n",
    "    teleport_idx : np.array, shape [S]\n",
    "                   The indicies of the nodes in the teleport set.\n",
    "    \"\"\"\n",
    "    \n",
    "    # convert topics strings in to corresponding column idx\n",
    "    column_idx = [categories[topic] for topic in topics]\n",
    "\n",
    "    # extract relevant columns from C and sum along rows. Non zero elements are then the target elements\n",
    "    teleport = np.squeeze(np.array(C[:, column_idx].sum(1)))\n",
    "\n",
    "    # get the idx\n",
    "    teleport_idx = np.where(teleport > 0)[0]\n",
    "    \n",
    "    return teleport_idx"
   ]
  },
  {
   "cell_type": "markdown",
   "metadata": {},
   "source": [
    " ## 2. Implement Topic-Specific PageRank"
   ]
  },
  {
   "cell_type": "code",
   "execution_count": 9,
   "metadata": {},
   "outputs": [],
   "source": [
    "def page_rank(A, beta, teleport_idx=None, eps=1e-12):\n",
    "    \"\"\"\n",
    "    Implements Topic-Specific PageRank using power iteration and sparse matrix operations.\n",
    "    \n",
    "    Parameters\n",
    "    ----------\n",
    "    A           : sp.spmatrix, shape [num_restaurants, num_restaurants]\n",
    "                  The adjacency matrix representing the graph of restaurants.\n",
    "    beta        : float, \n",
    "                  0 < beta < 1, (1-beta) is the probabilty of teleporting to the nodes in the teleport set\n",
    "    teleport_idx: np.array, shape [S]\n",
    "                  The indicies of the nodes in the teleport set. If it equals to None\n",
    "                  it means runs standard PageRank, i.e. all nodes are in the teleport set.\n",
    "    \n",
    "    Returns\n",
    "    -------\n",
    "    r          : np.array, shape [num_restaurants]\n",
    "                 The page rank vector containing the page rank scores for each restaurant.\n",
    "    \"\"\"\n",
    "    \n",
    "    N = A.shape[0]\n",
    "    \n",
    "    # initialize r randomly and r_old with zeros\n",
    "    r = np.random.random(N)\n",
    "    r /= r.sum()\n",
    "    r_old = np.zeros(N) # used to check whether r converged\n",
    "    \n",
    "    # normalize columns of A\n",
    "    A = normalize(A, norm='l1', axis=0)\n",
    "    \n",
    "    if teleport_idx is None:\n",
    "        \n",
    "        # initialize penalty\n",
    "        penalty = np.ones(N)/N\n",
    "        \n",
    "        while np.linalg.norm(r - r_old) >= eps:\n",
    "            \n",
    "            # update old r\n",
    "            r_old = r.copy()\n",
    "            \n",
    "            # update r\n",
    "            r = beta * A * r + (1 - beta) * penalty\n",
    "    else:\n",
    "        \n",
    "        # initialize penalty\n",
    "        penalty = np.zeros(N)\n",
    "        penalty[teleport_idx] = 1 / len(teleport_idx)\n",
    "        \n",
    "        while np.linalg.norm(r - r_old) >= eps:\n",
    "            \n",
    "            # update old r\n",
    "            r_old = r\n",
    "            \n",
    "            # update r\n",
    "            r = beta * A.dot(r) + (1 - beta) * penalty\n",
    "        \n",
    "    return r"
   ]
  },
  {
   "cell_type": "markdown",
   "metadata": {},
   "source": [
    "### 3.1 Calculate the standard PageRank scores and print the names of the top 5 restaurants overall"
   ]
  },
  {
   "cell_type": "code",
   "execution_count": 10,
   "metadata": {},
   "outputs": [],
   "source": [
    "idx_to_category = {v:k for k, v in categories.items()}"
   ]
  },
  {
   "cell_type": "code",
   "execution_count": 11,
   "metadata": {},
   "outputs": [
    {
     "name": "stdout",
     "output_type": "stream",
     "text": [
      "1 Congee Me \n",
      "  Categories:  ['Korean']\n",
      "2 Go Go China \n",
      "  Categories:  ['Chinese']\n",
      "3 Sushi Making For the Soul \n",
      "  Categories:  ['Japanese']\n",
      "4 Spring Rolls \n",
      "  Categories:  ['African']\n",
      "5 Happy Tummy Filipino Cuisine \n",
      "  Categories:  ['Chinese']\n"
     ]
    }
   ],
   "source": [
    "r = page_rank(A=A, beta=0.6, teleport_idx=None)\n",
    "for i, x in enumerate(r.argsort()[-5:]):\n",
    "    print(i+1, names[x], '\\n  Categories: ', [idx_to_category[cat] for cat in C[x].nonzero()[1]])"
   ]
  },
  {
   "cell_type": "markdown",
   "metadata": {},
   "source": [
    "### 3.2 Calculate the standard PageRank scores and print the names of top 5 Mexican restaurants"
   ]
  },
  {
   "cell_type": "code",
   "execution_count": 12,
   "metadata": {},
   "outputs": [
    {
     "name": "stdout",
     "output_type": "stream",
     "text": [
      "1 Chill \n",
      "  Categories:  ['Mexican']\n",
      "2 El Taquito \n",
      "  Categories:  ['Mexican']\n",
      "3 The Atlantic \n",
      "  Categories:  ['Fast Food', 'Mexican']\n",
      "4 Burrito Loco \n",
      "  Categories:  ['Mexican']\n",
      "5 El Takito \n",
      "  Categories:  ['Mexican']\n"
     ]
    }
   ],
   "source": [
    "teleport_idx = teleport_set(C, ['Mexican'], categories)\n",
    "r = page_rank(A=A, beta=0.6, teleport_idx=teleport_idx)\n",
    "\n",
    "for i, x in enumerate(r.argsort()[-5:]):\n",
    "    print(i+1, names[x], '\\n  Categories: ', [idx_to_category[cat] for cat in C[x].nonzero()[1]])"
   ]
  },
  {
   "cell_type": "markdown",
   "metadata": {},
   "source": [
    "### 3.3 Calculate the standard PageRank scores and print the names of top 5 Italian or French restaurants\n"
   ]
  },
  {
   "cell_type": "code",
   "execution_count": 13,
   "metadata": {},
   "outputs": [
    {
     "name": "stdout",
     "output_type": "stream",
     "text": [
      "1 Ali Baba's Middle Eastern Cuisine \n",
      "  Categories:  ['Sandwiches', 'Pizza', 'Italian']\n",
      "2 New May Hong Yuen BBQ \n",
      "  Categories:  ['Italian']\n",
      "3 Sunnyside Café \n",
      "  Categories:  ['French']\n",
      "4 IPho Vietnamese Cuisine \n",
      "  Categories:  ['Italian']\n",
      "5 McDonald's \n",
      "  Categories:  ['Italian']\n"
     ]
    }
   ],
   "source": [
    "teleport_idx = teleport_set(C, ['Italian', 'French'], categories)\n",
    "r = page_rank(A=A, beta=0.6, teleport_idx=teleport_idx)\n",
    "\n",
    "for i, x in enumerate(r.argsort()[-5:]):\n",
    "    print(i+1, names[x], '\\n  Categories: ', [idx_to_category[cat] for cat in C[x].nonzero()[1]])"
   ]
  }
 ],
 "metadata": {
  "kernelspec": {
   "display_name": "Python 3",
   "language": "python",
   "name": "python3"
  },
  "language_info": {
   "codemirror_mode": {
    "name": "ipython",
    "version": 3
   },
   "file_extension": ".py",
   "mimetype": "text/x-python",
   "name": "python",
   "nbconvert_exporter": "python",
   "pygments_lexer": "ipython3",
   "version": "3.6.7"
  }
 },
 "nbformat": 4,
 "nbformat_minor": 2
}
